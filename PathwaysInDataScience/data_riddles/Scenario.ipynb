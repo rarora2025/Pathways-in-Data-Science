{
 "cells": [
  {
   "cell_type": "markdown",
   "metadata": {
    "collapsed": false
   },
   "source": [
    "# Scenario\n",
    "\n",
    "In the wake of COVID 19, Frontier Airlines wants to reduce the impact that flight delays has on their operations. Your team has been hired as consultants, tasked with figuring out how Frontier can predict when flight delays will occur in a post-COVID flying environment. You will have 3 hours to analyze the problem (9am-12pm), and will have 5 minutes to present your findings and conclusions to Frontier's C-suite.\n",
    "\n",
    "You have been provided two datasets: jantojun2020.csv is flight data about domestic flights in the US from January 2020 to June of 2020, and contains data from multiple airlines. frontier_only_data.csv is a subset of jantojun2020.csv consisting of rows corresponding to Frontier's flights. You may search for and use alternative datasets if you wish.\n",
    "\n",
    "The provided data was sourced from kaggle: https://www.kaggle.com/datasets/akulbahl/covid19-airline-flight-delays-and-cancellations\n"
   ]
  },
  {
   "cell_type": "code",
   "execution_count": 11,
   "metadata": {
    "collapsed": false
   },
   "outputs": [
   ],
   "source": [
    "import pandas as pd"
   ]
  },
  {
   "cell_type": "markdown",
   "metadata": {
    "collapsed": false
   },
   "source": [
    "Loading your dataset: jantojun2020.csv is a big dataset. Here are some options for reading in portions of large csv files."
   ]
  },
  {
   "cell_type": "code",
   "execution_count": 13,
   "metadata": {
    "collapsed": false
   },
   "outputs": [
   ],
   "source": [
    "# get only some columns from the full dataset\n",
    "column_subset_df = pd.read_csv('jantojun2020.csv',usecols=['MKT_UNIQUE_CARRIER','TAIL_NUM'])\n",
    "\n",
    "# get only some rows from the full dataset\n",
    "row_subset_df = pd.read_csv('jantojun2020.csv',nrows=1000)\n",
    "\n",
    "# load the pre-selected Frontier data\n",
    "F9_df = pd.read_csv('frontier_only_data.csv')\n",
    "\n",
    "# create a new sub-dataset consisting of rows that meet a certain condition\n",
    "gen = pd.read_csv('jantojun2020.csv', chunksize=1000)\n",
    "AA_df = pd.concat((x.query(\"MKT_UNIQUE_CARRIER == 'AA'\") for x in gen), ignore_index=True)"
   ]
  }
 ],
 "metadata": {
  "kernelspec": {
   "display_name": "Python 3 (system-wide)",
   "language": "python",
   "metadata": {
    "cocalc": {
     "description": "Python 3 programming language",
     "priority": 100,
     "url": "https://www.python.org/"
    }
   },
   "name": "python3",
   "resource_dir": "/ext/jupyter/kernels/python3"
  },
  "language_info": {
   "codemirror_mode": {
    "name": "ipython",
    "version": 3
   },
   "file_extension": ".py",
   "mimetype": "text/x-python",
   "name": "python",
   "nbconvert_exporter": "python",
   "pygments_lexer": "ipython3",
   "version": "3.8.10"
  }
 },
 "nbformat": 4,
 "nbformat_minor": 4
}