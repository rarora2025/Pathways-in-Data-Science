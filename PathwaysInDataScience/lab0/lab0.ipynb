{
 "cells": [
  {
   "cell_type": "code",
   "execution_count": 0,
   "metadata": {
    "collapsed": false
   },
   "outputs": [
   ],
   "source": [
   ]
  },
  {
   "cell_type": "markdown",
   "metadata": {
    "collapsed": false
   },
   "source": [
    "# Lab 0 - Programming for Data Science\n",
    "\n",
    "## Goals of this lab:\n",
    "\n",
    " - review Python basics\n",
    " - introduction to packages for computing in Python\n",
    " - basic visualization\n",
    " - writing our own functions\n",
    "\n"
   ]
  },
  {
   "cell_type": "code",
   "execution_count": 6,
   "metadata": {
    "collapsed": false,
    "scrolled": true
   },
   "outputs": [
   ],
   "source": [
    "# this is a package for performing mathematical operations, especially on vectors/matrices\n",
    "import numpy as np\n",
    "\n",
    "# this is a package for plotting/visualizing data.\n",
    "# \"inline\" refers to the fact that we'll be creating figures alongside text/code output in our notebooks\n",
    "%matplotlib inline\n",
    "from matplotlib import pyplot as plt"
   ]
  },
  {
   "cell_type": "markdown",
   "metadata": {
    "collapsed": false
   },
   "source": [
    "# Variables\n",
    "\n",
    "A *variable* is a symbolic handle that you give a computer in order to identify some concrete value, whether that's a number, a word, or whatever\n",
    "\n"
   ]
  },
  {
   "cell_type": "code",
   "execution_count": 2,
   "metadata": {
    "collapsed": false
   },
   "outputs": [
   ],
   "source": [
    "my_variable = 3\n",
    "another_variable = 3.0\n",
    "yet_another_variable = 'A'\n",
    "also_my_variable = 'anything I want'"
   ]
  },
  {
   "cell_type": "markdown",
   "metadata": {
    "collapsed": false
   },
   "source": [
    "Variables can have different datatypes: 'ints' are integers, 'floats' are decimal-valued numbers, 'characters' are letters, 'strings' are lists of characters (letters)"
   ]
  },
  {
   "cell_type": "code",
   "execution_count": 3,
   "metadata": {
    "collapsed": false
   },
   "outputs": [
    {
     "name": "stdout",
     "output_type": "stream",
     "text": [
      "<class 'int'> <class 'float'> <class 'str'> <class 'str'>\n"
     ]
    }
   ],
   "source": [
    "print(type(my_variable),\n",
    "type(another_variable),\n",
    "type(yet_another_variable),\n",
    "type(also_my_variable))"
   ]
  },
  {
   "cell_type": "markdown",
   "metadata": {
    "collapsed": false
   },
   "source": [
    "You can only perform certain operations on certain datatypes: e.g. you can add two numbers, but you can't add a number and a string. Type errors can be annoying: Python is nice and intuitive, but the downside is that IT WILL DO EXACTLY WHAT YOU TELL IT. It won't tell you if you're overwriting a number with a character until it causes an error. "
   ]
  },
  {
   "cell_type": "code",
   "execution_count": 2,
   "metadata": {
    "collapsed": false
   },
   "outputs": [
    {
     "ename": "NameError",
     "evalue": "name 'my_variable' is not defined",
     "output_type": "error",
     "traceback": [
      "\u001b[0;31m---------------------------------------------------------------------------\u001b[0m",
      "\u001b[0;31mNameError\u001b[0m                                 Traceback (most recent call last)",
      "\u001b[0;32m/tmp/ipykernel_1402/2704262160.py\u001b[0m in \u001b[0;36m<cell line: 1>\u001b[0;34m()\u001b[0m\n\u001b[0;32m----> 1\u001b[0;31m \u001b[0mprint\u001b[0m\u001b[0;34m(\u001b[0m\u001b[0mmy_variable\u001b[0m\u001b[0;34m+\u001b[0m\u001b[0;36m4\u001b[0m\u001b[0;34m)\u001b[0m\u001b[0;34m\u001b[0m\u001b[0;34m\u001b[0m\u001b[0m\n\u001b[0m\u001b[1;32m      2\u001b[0m \u001b[0;34m\u001b[0m\u001b[0m\n\u001b[1;32m      3\u001b[0m \u001b[0;31m# overwrite\u001b[0m\u001b[0;34m\u001b[0m\u001b[0;34m\u001b[0m\u001b[0;34m\u001b[0m\u001b[0m\n\u001b[1;32m      4\u001b[0m \u001b[0mmy_variable\u001b[0m \u001b[0;34m=\u001b[0m \u001b[0;34m'3'\u001b[0m\u001b[0;34m\u001b[0m\u001b[0;34m\u001b[0m\u001b[0m\n\u001b[1;32m      5\u001b[0m \u001b[0mprint\u001b[0m\u001b[0;34m(\u001b[0m\u001b[0mmy_variable\u001b[0m\u001b[0;34m+\u001b[0m\u001b[0;36m4\u001b[0m\u001b[0;34m)\u001b[0m\u001b[0;34m\u001b[0m\u001b[0;34m\u001b[0m\u001b[0m\n",
      "\u001b[0;31mNameError\u001b[0m: name 'my_variable' is not defined"
     ]
    }
   ],
   "source": [
    "print(my_variable+4)\n",
    "\n",
    "# overwrite\n",
    "my_variable = '3'\n",
    "print(my_variable+4)"
   ]
  },
  {
   "cell_type": "markdown",
   "metadata": {
    "collapsed": false
   },
   "source": [
    "# Lists\n",
    "\n",
    "One of the basic datastructures that python uses are called *lists*. We will eventually use lists to build vectors and matrices."
   ]
  },
  {
   "cell_type": "code",
   "execution_count": 3,
   "metadata": {
    "collapsed": false
   },
   "outputs": [
   ],
   "source": [
    "# a list is just.... a list of things!\n",
    "my_list = [2,4,52]\n",
    "\n",
    "# you can put anything in a list, including other lists\n",
    "weird_list = ['apple',-32,[1,2,3],(0,0)]"
   ]
  },
  {
   "cell_type": "code",
   "execution_count": 4,
   "metadata": {
    "collapsed": false
   },
   "outputs": [
    {
     "data": {
      "text/plain": [
       "[2, 4, 52, 'apple', -32, [1, 2, 3], (0, 0)]"
      ]
     },
     "execution_count": 4,
     "metadata": {
     },
     "output_type": "execute_result"
    }
   ],
   "source": [
    "my_list+weird_list"
   ]
  },
  {
   "cell_type": "code",
   "execution_count": 5,
   "metadata": {
    "collapsed": false
   },
   "outputs": [
    {
     "name": "stdout",
     "output_type": "stream",
     "text": [
      "apple\n",
      "-32\n",
      "4\n"
     ]
    }
   ],
   "source": [
    "# lists (and later vectors and matrices) are ZERO INDEXED in python:\n",
    "print(weird_list[0]) # gets FIRST element\n",
    "print(weird_list[1]) # gets SECOND element\n",
    "\n",
    "print(my_list[-2])"
   ]
  },
  {
   "cell_type": "code",
   "execution_count": 8,
   "metadata": {
    "collapsed": false
   },
   "outputs": [
    {
     "name": "stdout",
     "output_type": "stream",
     "text": [
      "[4, 'pie is better than cake']\n"
     ]
    }
   ],
   "source": [
    "# we can also create empty lists and build them as we go\n",
    "starts_empty = list()\n",
    "starts_empty.append(4)\n",
    "starts_empty.append('pie is better than cake')\n",
    "\n",
    "print(starts_empty)"
   ]
  },
  {
   "cell_type": "code",
   "execution_count": 9,
   "metadata": {
    "collapsed": false,
    "scrolled": true
   },
   "outputs": [
    {
     "ename": "IndexError",
     "evalue": "list index out of range",
     "output_type": "error",
     "traceback": [
      "\u001b[0;31m---------------------------------------------------------------------------\u001b[0m",
      "\u001b[0;31mIndexError\u001b[0m                                Traceback (most recent call last)",
      "\u001b[0;32m/tmp/ipykernel_109618/2946494074.py\u001b[0m in \u001b[0;36m<cell line: 3>\u001b[0;34m()\u001b[0m\n\u001b[1;32m      1\u001b[0m \u001b[0;31m# ONE OF THE MOST COMMON ERRORS: forgetting/trying to access an element that's not there:\u001b[0m\u001b[0;34m\u001b[0m\u001b[0;34m\u001b[0m\u001b[0;34m\u001b[0m\u001b[0m\n\u001b[1;32m      2\u001b[0m \u001b[0;31m# my_list has 3 elements: elt 0, elt 1, and elt 2. Asking for elt 3 will raise an error\u001b[0m\u001b[0;34m\u001b[0m\u001b[0;34m\u001b[0m\u001b[0;34m\u001b[0m\u001b[0m\n\u001b[0;32m----> 3\u001b[0;31m \u001b[0mmy_list\u001b[0m\u001b[0;34m[\u001b[0m\u001b[0;36m3\u001b[0m\u001b[0;34m]\u001b[0m\u001b[0;34m\u001b[0m\u001b[0;34m\u001b[0m\u001b[0m\n\u001b[0m",
      "\u001b[0;31mIndexError\u001b[0m: list index out of range"
     ]
    }
   ],
   "source": [
    "# ONE OF THE MOST COMMON ERRORS: forgetting/trying to access an element that's not there:\n",
    "# my_list has 3 elements: elt 0, elt 1, and elt 2. Asking for elt 3 will raise an error\n",
    "my_list[3]"
   ]
  },
  {
   "cell_type": "markdown",
   "metadata": {
    "collapsed": false
   },
   "source": [
    "# Basic programming commands"
   ]
  },
  {
   "cell_type": "markdown",
   "metadata": {
    "collapsed": false
   },
   "source": [
    "'If statement:' \"if some condition holds, do something\""
   ]
  },
  {
   "cell_type": "code",
   "execution_count": 11,
   "metadata": {
    "collapsed": false
   },
   "outputs": [
    {
     "name": "stdout",
     "output_type": "stream",
     "text": [
      "Yes 10 is bigger than 5.\n"
     ]
    }
   ],
   "source": [
    "if 10 > 5:\n",
    "    print('Yes 10 is bigger than 5.')\n",
    "if 10 > 1000:\n",
    "    print('Obviously 10 is not bigger than 1000')"
   ]
  },
  {
   "cell_type": "markdown",
   "metadata": {
    "collapsed": false
   },
   "source": [
    "'For loop:' \"for each thing in this_object, do something\""
   ]
  },
  {
   "cell_type": "code",
   "execution_count": 12,
   "metadata": {
    "collapsed": false
   },
   "outputs": [
    {
     "name": "stdout",
     "output_type": "stream",
     "text": [
      "apple\n",
      "-32\n",
      "[1, 2, 3]\n",
      "(0, 0)\n"
     ]
    }
   ],
   "source": [
    "for item in weird_list:\n",
    "    print(item)"
   ]
  },
  {
   "cell_type": "code",
   "execution_count": 13,
   "metadata": {
    "collapsed": false
   },
   "outputs": [
    {
     "name": "stdout",
     "output_type": "stream",
     "text": [
      "2 , 7\n",
      "4 , 9\n",
      "52 , 57\n"
     ]
    }
   ],
   "source": [
    "# given a list of numbers, add 5 to each number\n",
    "for number in my_list:\n",
    "    print(number,',',number+5)"
   ]
  },
  {
   "cell_type": "markdown",
   "metadata": {
    "collapsed": false
   },
   "source": [
    "\"Pythonic code:\" Python tries to minimize the number of long for-loops that people write. One tool for writing concise for-loops is a list comprehension:"
   ]
  },
  {
   "cell_type": "code",
   "execution_count": 14,
   "metadata": {
    "collapsed": false
   },
   "outputs": [
    {
     "name": "stdout",
     "output_type": "stream",
     "text": [
      "[7, 9, 57]\n"
     ]
    }
   ],
   "source": [
    "# python has lots of snazzy ways for working with lists: \"list comprehensions\" are very nice\n",
    "\n",
    "# \"list comprehension\" lets us do this much slicker:\n",
    "add_5_easy_way = [x+5 for x in my_list]\n",
    "print(add_5_easy_way)\n"
   ]
  },
  {
   "cell_type": "markdown",
   "metadata": {
    "collapsed": false
   },
   "source": [
    "# Vector variables\n",
    "\n",
    "Numpy initializes vectors from lists. **However, we have to put them inside an np.array() command in order to perform mathematical operations on them:**"
   ]
  },
  {
   "cell_type": "code",
   "execution_count": 15,
   "metadata": {
    "collapsed": false
   },
   "outputs": [
    {
     "name": "stdout",
     "output_type": "stream",
     "text": [
      "[2 4 6 8]\n",
      "[1, 2, 3, 4, 1, 2, 3, 4]\n"
     ]
    }
   ],
   "source": [
    "list_vector = [1,2,3,4]\n",
    "\n",
    "array_vector = np.array(list_vector)\n",
    "\n",
    "# multiplies each element of matrix by 2\n",
    "print(2*array_vector)\n",
    "\n",
    "# creates additional copies of our elements---NOT scalar multiplication\n",
    "print(2*list_vector)"
   ]
  },
  {
   "cell_type": "markdown",
   "metadata": {
    "collapsed": false
   },
   "source": [
    "Common vector operations:"
   ]
  },
  {
   "cell_type": "code",
   "execution_count": 16,
   "metadata": {
    "collapsed": false
   },
   "outputs": [
    {
     "name": "stdout",
     "output_type": "stream",
     "text": [
      "[2 2 4 4]\n",
      "[0 2 2 4]\n"
     ]
    }
   ],
   "source": [
    "vec1 = np.array([1,2,3,4])\n",
    "vec2 = np.array([1,0,1,0])\n",
    "\n",
    "# addition/subtraction\n",
    "print(vec1+vec2)\n",
    "print(vec1-vec2)"
   ]
  },
  {
   "cell_type": "code",
   "execution_count": 17,
   "metadata": {
    "collapsed": false
   },
   "outputs": [
    {
     "name": "stdout",
     "output_type": "stream",
     "text": [
      "4\n",
      "4\n",
      "4\n",
      "[1 0 3 0]\n"
     ]
    }
   ],
   "source": [
    "# inner product/dot product: multiple commands\n",
    "print(np.dot(vec1,vec2))\n",
    "print(np.inner(vec1,vec2))\n",
    "print(vec1@vec2)\n",
    "\n",
    "# BE CAREFUL NOT TO CONFUSE WITH * which will do ELEMENTWISE multiplication\n",
    "print(vec1*vec2)"
   ]
  },
  {
   "cell_type": "code",
   "execution_count": 18,
   "metadata": {
    "collapsed": false
   },
   "outputs": [
    {
     "name": "stdout",
     "output_type": "stream",
     "text": [
      "[[1 0 1 0]\n",
      " [2 0 2 0]\n",
      " [3 0 3 0]\n",
      " [4 0 4 0]]\n"
     ]
    }
   ],
   "source": [
    "# outer product: np.outer(w,u) creates a matrix whose (i,j)th entry is w_i * u_j\n",
    "print(np.outer(vec1,vec2))"
   ]
  },
  {
   "cell_type": "code",
   "execution_count": 19,
   "metadata": {
    "collapsed": false
   },
   "outputs": [
    {
     "name": "stdout",
     "output_type": "stream",
     "text": [
      "10.0\n",
      "5.477225575051661\n",
      "4.0\n"
     ]
    }
   ],
   "source": [
    "# vector norms: p-norm via linalg.norm(x, ord=p)\n",
    "\n",
    "print(np.linalg.norm(vec1,ord=1))\n",
    "print(np.linalg.norm(vec1,ord=2))\n",
    "print(np.linalg.norm(vec1,ord=np.inf))"
   ]
  },
  {
   "cell_type": "markdown",
   "metadata": {
    "collapsed": false
   },
   "source": [
    "# Matrix variables\n",
    "\n",
    "A matrix is a vector of vectors. It's one way to represent a table of data.\n",
    "\n",
    "Numpy initializes matrices from lists of lists: each row is a list, and a matrix takes rows in the order you provide them. **However, we have to put them inside an np.array() command in order to perform mathematical operations on them.**"
   ]
  },
  {
   "cell_type": "code",
   "execution_count": 20,
   "metadata": {
    "collapsed": false
   },
   "outputs": [
    {
     "name": "stdout",
     "output_type": "stream",
     "text": [
      "[[2 4]\n",
      " [6 8]]\n",
      "[[1, 2], [3, 4], [1, 2], [3, 4]]\n"
     ]
    }
   ],
   "source": [
    "list_matrix = [[1,2],[3,4]]\n",
    "\n",
    "ndarray_matrix = np.array(list_matrix)\n",
    "\n",
    "# multiplies each element of matrix by 2\n",
    "print(2*ndarray_matrix)\n",
    "\n",
    "# creates additional copies of our rows---NOT scalar multiplication\n",
    "print(2*list_matrix)\n"
   ]
  },
  {
   "cell_type": "markdown",
   "metadata": {
    "collapsed": false
   },
   "source": [
    "# Common operations we'll need for our class\n",
    "\n",
    "## Random draws\n",
    "\n",
    "Numpy gives us ways to \"draw random numbers\" to create variables, vectors, and matrices drawn from a variety of distributions."
   ]
  },
  {
   "cell_type": "code",
   "execution_count": 21,
   "metadata": {
    "collapsed": false
   },
   "outputs": [
    {
     "name": "stdout",
     "output_type": "stream",
     "text": [
      "uniform variable from interval [0,1):  0.029045469147819136\n",
      "uniform variable from interval [45,100):  79.05514755409104\n",
      "gaussian random variable from standard distribution:  1.0594773002615712\n",
      "gaussian random variable with mean 25 and standard deviation 1.7:  24.34148938382819\n"
     ]
    }
   ],
   "source": [
    "print('uniform variable from interval [0,1): ',np.random.uniform())\n",
    "\n",
    "print('uniform variable from interval [45,100): ',np.random.uniform(low=45,high=100))\n",
    "\n",
    "print('gaussian random variable from standard distribution: ',np.random.normal())\n",
    "\n",
    "print('gaussian random variable with mean 25 and standard deviation 1.7: ',np.random.normal(loc=25,scale=1.7))"
   ]
  },
  {
   "cell_type": "code",
   "execution_count": 22,
   "metadata": {
    "collapsed": false
   },
   "outputs": [
    {
     "name": "stdout",
     "output_type": "stream",
     "text": [
      "random vector : \n",
      " [-1.46370541 -0.43789022 -1.05835374  0.13924173]\n",
      "random matrix: \n",
      " [[-0.54678353  1.01477635  0.15850856 -2.10803665]\n",
      " [ 2.25947579  0.57224054  2.05488581 -0.43474733]\n",
      " [-0.03553327  0.81876781  0.72133831 -0.24265002]]\n"
     ]
    }
   ],
   "source": [
    "# Build vectors or matrices with randomly drawn elements by specifying size\n",
    "\n",
    "# Gaussian random vector\n",
    "print('random vector : \\n',np.random.normal(size=4))\n",
    "\n",
    "# Gaussian random matrix\n",
    "print('random matrix: \\n',np.random.normal(size=(3,4)))"
   ]
  },
  {
   "cell_type": "markdown",
   "metadata": {
    "collapsed": false
   },
   "source": [
    "# Visualization"
   ]
  },
  {
   "cell_type": "markdown",
   "metadata": {
    "collapsed": false
   },
   "source": [
    "Visualizations can be as complicated as you like. We'll focus on basics for now."
   ]
  },
  {
   "cell_type": "markdown",
   "metadata": {
    "collapsed": false
   },
   "source": [
    "## imshow\n",
    "\n",
    "Plots a matrix as a heatmap"
   ]
  },
  {
   "cell_type": "code",
   "execution_count": 23,
   "metadata": {
    "collapsed": false
   },
   "outputs": [
    {
     "data": {
      "image/png": "[encoded data removed]",
      "text/plain": [
       "<Figure size 432x288 with 2 Axes>"
      ]
     },
     "execution_count": 23,
     "metadata": {
      "image/png": {
       "height": 248,
       "width": 294
      },
      "needs_background": "light"
     },
     "output_type": "execute_result"
    }
   ],
   "source": [
    "big_matrix = np.random.normal(size=(5,5))\n",
    "\n",
    "# plot big_matrix entries\n",
    "plt.imshow(big_matrix)\n",
    "\n",
    "# colorbar for scale\n",
    "plt.colorbar()\n",
    "\n",
    "# display figure\n",
    "plt.show()"
   ]
  },
  {
   "cell_type": "code",
   "execution_count": 24,
   "metadata": {
    "collapsed": false
   },
   "outputs": [
    {
     "name": "stdout",
     "output_type": "stream",
     "text": [
      "The identity matrix has entries: \n",
      " [[1. 0. 0. 0.]\n",
      " [0. 1. 0. 0.]\n",
      " [0. 0. 1. 0.]\n",
      " [0. 0. 0. 1.]]\n"
     ]
    },
    {
     "data": {
      "image/png": "[encoded data removed]",
      "text/plain": [
       "<Figure size 432x288 with 2 Axes>"
      ]
     },
     "execution_count": 24,
     "metadata": {
      "image/png": {
       "height": 252,
       "width": 313
      },
      "needs_background": "light"
     },
     "output_type": "execute_result"
    }
   ],
   "source": [
    "# What should an image of the identity look like?\n",
    "print('The identity matrix has entries: \\n',np.identity(4))\n",
    "plt.imshow(np.identity(4))\n",
    "plt.colorbar()\n",
    "plt.show()"
   ]
  },
  {
   "cell_type": "markdown",
   "metadata": {
    "collapsed": false
   },
   "source": [
    "## line graphs\n",
    "\n",
    "Take some datapoints (x_1,y_1),...(x_n,y_n) and plot them in different ways."
   ]
  },
  {
   "cell_type": "code",
   "execution_count": 25,
   "metadata": {
    "collapsed": false
   },
   "outputs": [
    {
     "data": {
      "image/png": "[encoded data removed]",
      "text/plain": [
       "<Figure size 432x288 with 1 Axes>"
      ]
     },
     "execution_count": 25,
     "metadata": {
      "image/png": {
       "height": 277,
       "width": 385
      },
      "needs_background": "light"
     },
     "output_type": "execute_result"
    },
    {
     "data": {
      "image/png": "[encoded data removed]",
      "text/plain": [
       "<Figure size 432x288 with 1 Axes>"
      ]
     },
     "execution_count": 25,
     "metadata": {
      "image/png": {
       "height": 277,
       "width": 385
      },
      "needs_background": "light"
     },
     "output_type": "execute_result"
    },
    {
     "data": {
      "image/png": "[encoded data removed]",
      "text/plain": [
       "<Figure size 432x288 with 1 Axes>"
      ]
     },
     "execution_count": 25,
     "metadata": {
      "image/png": {
       "height": 277,
       "width": 385
      },
      "needs_background": "light"
     },
     "output_type": "execute_result"
    }
   ],
   "source": [
    "datapoints = [(-2,7),(2,5),(4,6),(35,4)]\n",
    "\n",
    "x_values = [v[0] for v in datapoints]\n",
    "y_values = [v[1] for v in datapoints]\n",
    "\n",
    "plt.plot(x_values,y_values)\n",
    "plt.xlabel('x values')\n",
    "plt.ylabel('y values')\n",
    "plt.title('My line plot')\n",
    "plt.show()\n",
    "\n",
    "plt.scatter(x_values,y_values)\n",
    "plt.xlabel('x values')\n",
    "plt.ylabel('y values')\n",
    "plt.title('My scatter plot')\n",
    "plt.show()\n",
    "\n",
    "plt.plot(x_values,y_values)\n",
    "plt.scatter(x_values,y_values)\n",
    "plt.xlabel('x values')\n",
    "plt.ylabel('y values')\n",
    "plt.title('My line+scatter plot')\n",
    "plt.show()"
   ]
  },
  {
   "cell_type": "markdown",
   "metadata": {
    "collapsed": false
   },
   "source": [
    "# Organizing your code\n",
    "\n",
    "As you can maybe tell, it's easy for your code to get long, rambly, and generally disorganized. Disorganized code is very hard to debug (find & correct errors). One way to organize your code is to break it down into *functions.* A function takes a piece of code and wraps it up. If you find yourself doing a particular set of steps frequently, consider putting them into a function.\n",
    "\n",
    "So, for example, consider: imagine I have a bunch of vectors, and for each one I want to compare the ratio\n",
    "$$ \\frac{| \\text{ largest element of a vector } |}{\\text{sum of absolute value of elements in vector}}$$\n",
    "I could get the value for each vector manually, but if I'm doing this over and over I might get confused: **Can you spot the mistake below?** Hint: compare with the answers we get from our function below, and then look for the mistake."
   ]
  },
  {
   "cell_type": "code",
   "execution_count": 7,
   "metadata": {
    "collapsed": false
   },
   "outputs": [
    {
     "name": "stdout",
     "output_type": "stream",
     "text": [
      "ratio 1 =  0.25\n",
      "ratio 2 =  0.25\n",
      "ratio 3 =  1.0\n",
      "ratio 4 =  0.9174311926605505\n"
     ]
    }
   ],
   "source": [
    "vector_1 = np.array([1,1,1,1])\n",
    "vector_2 = np.array([23,23,23,23])\n",
    "vector_3 = np.array([1,0,0,0])\n",
    "vector_4 = np.array([2,6,1,100])\n",
    "\n",
    "largest_elt_1 = max(np.abs(vector_1))\n",
    "sum_1 = np.sum(np.abs(vector_1))\n",
    "print('ratio 1 = ',largest_elt_1/sum_1)\n",
    "\n",
    "largest_elt_2 = max(np.abs(vector_2))\n",
    "sum_2 = np.sum(np.abs(vector_2))\n",
    "print('ratio 2 = ',largest_elt_2/sum_2)\n",
    "\n",
    "largest_elt_3 = max(np.abs(vector_3))\n",
    "sum_3 = np.sum(np.abs(vector_3))\n",
    "print('ratio 3 = ',largest_elt_3/sum_3)\n",
    "\n",
    "largest_elt_4 = max(np.abs(vector_4))\n",
    "sum_4 = np.sum(np.abs(vector_4))\n",
    "print('ratio 4 = ',largest_elt_4/sum_4)"
   ]
  },
  {
   "cell_type": "markdown",
   "metadata": {
    "collapsed": false
   },
   "source": [
    "To make our code simpler, we can define a function, and then call it with different arguments:"
   ]
  },
  {
   "cell_type": "code",
   "execution_count": 27,
   "metadata": {
    "collapsed": false
   },
   "outputs": [
    {
     "name": "stdout",
     "output_type": "stream",
     "text": [
      "ratio =  0.25\n",
      "ratio =  0.25\n",
      "ratio =  1.0\n",
      "ratio =  0.9174311926605505\n"
     ]
    },
    {
     "data": {
      "text/plain": [
       "0.9174311926605505"
      ]
     },
     "execution_count": 27,
     "metadata": {
     },
     "output_type": "execute_result"
    }
   ],
   "source": [
    "def return_ratio_largest_over_sum(vector):\n",
    "    largest_abs_elt = max(np.abs(vector))\n",
    "    sum_abs_value = np.sum(np.abs(vector))\n",
    "\n",
    "    ratio = largest_abs_elt/sum_abs_value\n",
    "\n",
    "    print('ratio = ',ratio)\n",
    "\n",
    "    return ratio\n",
    "\n",
    "return_ratio_largest_over_sum(vector_1)\n",
    "return_ratio_largest_over_sum(vector_2)\n",
    "return_ratio_largest_over_sum(vector_3)\n",
    "return_ratio_largest_over_sum(vector_4)"
   ]
  },
  {
   "cell_type": "markdown",
   "metadata": {
    "collapsed": false
   },
   "source": [
    "We can do all kinds of things with our functions: we can call them within OTHER functions, plot within them, sky's the limit."
   ]
  },
  {
   "cell_type": "code",
   "execution_count": 28,
   "metadata": {
    "collapsed": false
   },
   "outputs": [
   ],
   "source": [
    "# This function takes in a list of sizes (n1,...,nN). Then for each n, it generates a random Gaussian n-dimensional vector\n",
    "# Then it plots n versus the ratio abs_val_of_largest_element/sum_of_abs_vals.\n",
    "\n",
    "def entry_ratio_vs_size(list_of_sizes):\n",
    "\n",
    "    # initialize an empy list to hold each singular value\n",
    "    ratios = []\n",
    "\n",
    "    # for each size in our list\n",
    "    for n in list_of_sizes:\n",
    "        # build an n-dimensional random vector\n",
    "        vector = np.random.normal(size=(n))\n",
    "\n",
    "        # use the function we defined earlier to get the largest singular value in one line!\n",
    "        ratios.append(return_ratio_largest_over_sum(vector))\n",
    "\n",
    "    plt.plot(list_of_sizes,ratios)\n",
    "    plt.ylabel('|largest entry|/sum of absolute values')\n",
    "    plt.xlabel('Number of vector entries')\n",
    "    plt.show()\n",
    "    return\n"
   ]
  },
  {
   "cell_type": "code",
   "execution_count": 29,
   "metadata": {
    "collapsed": false,
    "scrolled": true
   },
   "outputs": [
    {
     "name": "stdout",
     "output_type": "stream",
     "text": [
      "ratio =  0.9573656475201603\n",
      "ratio =  0.30048586192105287\n",
      "ratio =  0.05010611734495209\n",
      "ratio =  0.032925987317104624\n",
      "ratio =  0.007230480530471402\n"
     ]
    },
    {
     "data": {
      "image/png": "[encoded data removed]",
      "text/plain": [
       "<Figure size 432x288 with 1 Axes>"
      ]
     },
     "execution_count": 29,
     "metadata": {
      "image/png": {
       "height": 264,
       "width": 385
      },
      "needs_background": "light"
     },
     "output_type": "execute_result"
    }
   ],
   "source": [
    "entry_ratio_vs_size([2,5,60,100,500])"
   ]
  },
  {
   "cell_type": "markdown",
   "metadata": {
    "collapsed": false
   },
   "source": [
    "##  Exercise 0.1: basic coding practice.\n",
    "\n",
    "**a).** Generate random Gaussian vectors of size n for n = 2,5,10,20,50,100. Calculate the sum of their entries. Plot a line plot of the sum versus n.\n",
    "\n",
    "**b).** Generate random Gaussian vectors of size n for n = 2,5,10,20,50,100. Calculate the sum of the **absolute values** of their entries. Plot a line plot of the sum versus n. How do these two plots compare? Does that make sense?\n",
    "\n",
    "**c).** Write a function that takes in two vectors, let's call them vector_A and vector_B, and returns the largest element of their sum.\n",
    "\n",
    "**d).** Here is a list of the sizes of students in my department in centimeters. Plot them in a histogram (hint: google plt.hist). What fraction of students are over 165cm?\n",
    "\n"
   ]
  },
  {
   "cell_type": "code",
   "execution_count": 28,
   "metadata": {
    "collapsed": false
   },
   "outputs": [
    {
     "data": {
      "text/plain": [
       "[<matplotlib.lines.Line2D at 0x7fd60a7572e0>]"
      ]
     },
     "execution_count": 28,
     "metadata": {
     },
     "output_type": "execute_result"
    },
    {
     "data": {
      "image/png": "[encoded data removed]",
      "text/plain": [
       "<Figure size 432x288 with 1 Axes>"
      ]
     },
     "execution_count": 28,
     "metadata": {
      "image/png": {
       "height": 248,
       "width": 370
      },
      "needs_background": "light"
     },
     "output_type": "execute_result"
    }
   ],
   "source": [
    "#function that calculates sum\n",
    "def calcsum(vec):\n",
    "    summ = 0\n",
    "    for x in range(len(vec)):\n",
    "        summ += vec[x]\n",
    "    return summ\n",
    "\n",
    "#function to generate random\n",
    "def generateRandom(n):\n",
    "    return np.random.normal(size=n)\n",
    "    \n",
    "\n",
    "    #list of inputs\n",
    "inputs = [2,5,10,20,50,100]\n",
    "\n",
    "#x coords\n",
    "xs = []\n",
    "#y coords\n",
    "ys = []\n",
    "\n",
    "#looping through, finding sum, and appending to arrays accordingly\n",
    "for z in range(len(inputs)):\n",
    "    x1 = generateRandom(inputs[z])\n",
    "    xs.append(inputs[z])\n",
    "    y1 = calcsum(x1)\n",
    "    ys.append(y1)\n",
    "    \n",
    "plt.plot(xs,ys)"
   ]
  },
  {
   "cell_type": "code",
   "execution_count": 37,
   "metadata": {
    "collapsed": false,
    "scrolled": true
   },
   "outputs": [
    {
     "data": {
      "text/plain": [
       "[<matplotlib.lines.Line2D at 0x7fd60a1e3dc0>]"
      ]
     },
     "execution_count": 37,
     "metadata": {
     },
     "output_type": "execute_result"
    },
    {
     "data": {
      "image/png": "[encoded data removed]",
      "text/plain": [
       "<Figure size 432x288 with 1 Axes>"
      ]
     },
     "execution_count": 37,
     "metadata": {
      "image/png": {
       "height": 248,
       "width": 369
      },
      "needs_background": "light"
     },
     "output_type": "execute_result"
    }
   ],
   "source": [
    "#function that calculates sum\n",
    "def calcsum2(vec):\n",
    "    summ = 0\n",
    "    for x in range(len(vec)):\n",
    "        summ += vec[x]\n",
    "    return summ\n",
    "\n",
    "#calcs abs sum\n",
    "def calcsum1(vec):\n",
    "    summ = 0\n",
    "    for x in range(len(vec)):\n",
    "        summ += np.abs(vec[x])\n",
    "    return summ\n",
    "\n",
    "#generates rand\n",
    "def generateRandom(n):\n",
    "    return np.random.normal(size=n)\n",
    "    \n",
    "\n",
    "    #declaring inputs\n",
    "inputs = [2,5,10,20,50,100]\n",
    "\n",
    "#declaring axis,datapoints to test w ABSOLUTE Sum\n",
    "xs = []\n",
    "ys = []\n",
    "for z in range(len(inputs)):\n",
    "    x1 = generateRandom(inputs[z])\n",
    "    xs.append(inputs[z])\n",
    "    y1 = calcsum1(x1)\n",
    "    ys.append(y1)\n",
    "\n",
    "    #declaring axis,datapoints to test w normal sum\n",
    "    \n",
    "inputs = [2,5,10,20,50,100]\n",
    "xs2 = []\n",
    "ys2 = []\n",
    "for z in range(len(inputs)):\n",
    "    x1 = generateRandom(inputs[z])\n",
    "    xs2.append(inputs[z])\n",
    "    y1 = calcsum2(x1)\n",
    "    ys2.append(y1)\n",
    "    \n",
    "    #plotting\n",
    "plt.plot(xs,ys)\n",
    "plt.plot(xs2,ys2)"
   ]
  },
  {
   "cell_type": "code",
   "execution_count": 3,
   "metadata": {
    "collapsed": false
   },
   "outputs": [
    {
     "name": "stdout",
     "output_type": "stream",
     "text": [
      "9\n"
     ]
    }
   ],
   "source": [
    "import numpy as np\n",
    "#calc sum of vectors and return largest\n",
    "def larsum(vector_A,vector_B): return np.max(vector_A+vector_B)\n",
    "\n",
    "print(larsum(np.array([1,2,3,4]), np.array([2,3,4,5])))\n",
    "    "
   ]
  },
  {
   "cell_type": "code",
   "execution_count": 58,
   "metadata": {
    "collapsed": false
   },
   "outputs": [
    {
     "name": "stdout",
     "output_type": "stream",
     "text": [
      "0.5\n"
     ]
    },
    {
     "data": {
      "image/png": "[encoded data removed]",
      "text/plain": [
       "<Figure size 432x288 with 1 Axes>"
      ]
     },
     "execution_count": 58,
     "metadata": {
      "image/png": {
       "height": 248,
       "width": 372
      },
      "needs_background": "light"
     },
     "output_type": "execute_result"
    }
   ],
   "source": [
    "import pandas as pd\n",
    "student_heights_in_cm = [156,172,148,185,180,176,154,167,\n",
    "                         182,170,172,173,164,162,177,183,\n",
    "                         155,156,154,160,161,162,167,165]\n",
    "#making hist\n",
    "plt.hist(student_heights_in_cm)\n",
    "\n",
    "#putting in data frame\n",
    "x = pd.DataFrame(student_heights_in_cm)\n",
    "#putting bools in data frame\n",
    "y = x > 165\n",
    "\n",
    "#counting logical expressions\n",
    "trucount = 0\n",
    "falcount = 0\n",
    "#adding totals\n",
    "for g in range(len(y)):\n",
    "    if y.loc[g,0] == True:\n",
    "        trucount += 1\n",
    "    else:\n",
    "        falcount += 1\n",
    "    #print results\n",
    "print(trucount/float(falcount+trucount))\n",
    "    "
   ]
  },
  {
   "cell_type": "code",
   "execution_count": 0,
   "metadata": {
    "collapsed": false
   },
   "outputs": [
   ],
   "source": [
   ]
  }
 ],
 "metadata": {
  "kernelspec": {
   "display_name": "Python 3 (system-wide)",
   "language": "python",
   "metadata": {
    "cocalc": {
     "description": "Python 3 programming language",
     "priority": 100,
     "url": "https://www.python.org/"
    }
   },
   "name": "python3",
   "resource_dir": "/ext/jupyter/kernels/python3"
  },
  "language_info": {
   "codemirror_mode": {
    "name": "ipython",
    "version": 3
   },
   "file_extension": ".py",
   "mimetype": "text/x-python",
   "name": "python",
   "nbconvert_exporter": "python",
   "pygments_lexer": "ipython3",
   "version": "3.8.10"
  }
 },
 "nbformat": 4,
 "nbformat_minor": 4
}