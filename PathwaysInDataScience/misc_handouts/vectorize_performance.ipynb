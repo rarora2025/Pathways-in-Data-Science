{
 "cells": [
  {
   "cell_type": "code",
   "execution_count": 40,
   "metadata": {
    "collapsed": false
   },
   "outputs": [
   ],
   "source": [
    "import numpy as np\n",
    "import string\n",
    "import random\n",
    "import time"
   ]
  },
  {
   "cell_type": "markdown",
   "metadata": {
    "collapsed": false
   },
   "source": [
    "# Checking performance up `np.vectorize()` versus naive looped implementation with `str.upper()`\n",
    "\n",
    "We want to check if `np.vectorize()` actually gives any performance boost."
   ]
  },
  {
   "cell_type": "code",
   "execution_count": 35,
   "metadata": {
    "collapsed": false
   },
   "outputs": [
    {
     "name": "stdout",
     "output_type": "stream",
     "text": [
      "[['mmxxcn' 'yoddat' 'riyzaw' ... 'uibell' 'jlzldl' 'ntwklu']\n",
      " ['rotcgg' 'kwuqdc' 'tzkoir' ... 'luwzkb' 'kvpuol' 'vhvbrs']\n",
      " ['voggpg' 'qbkuqc' 'fmltyv' ... 'uaxgog' 'ugetnw' 'iswvao']\n",
      " ...\n",
      " ['qhrqdf' 'cuwzhy' 'muefrs' ... 'cfskbe' 'askzfy' 'qsggyx']\n",
      " ['kbglli' 'pwexbw' 'hevaqs' ... 'gdfani' 'dtypqb' 'exvrbg']\n",
      " ['qjotyx' 'fxmapw' 'gazhez' ... 'ysdyuj' 'bmkwuu' 'zawucr']]\n",
      "shape: (1000, 1000)\n"
     ]
    }
   ],
   "source": [
    "# generate an array of shape (1000, 1000), where each entry is a random string of 6 characters\n",
    "names = np.empty(shape = (1000, 1000), dtype = object)\n",
    "letters = string.ascii_lowercase\n",
    "for i in range(1000):\n",
    "    for j in range(1000):\n",
    "        names[i, j] = ''.join(random.choice(letters) for i in range(6))\n",
    "        \n",
    "print(names)\n",
    "print(f\"shape: {names.shape}\")"
   ]
  },
  {
   "cell_type": "code",
   "execution_count": 36,
   "metadata": {
    "collapsed": false
   },
   "outputs": [
   ],
   "source": [
    "# vectorize the string.upper function\n",
    "\n",
    "vectorized_upper = np.vectorize(str.upper)"
   ]
  },
  {
   "cell_type": "code",
   "execution_count": 53,
   "metadata": {
    "collapsed": false
   },
   "outputs": [
    {
     "name": "stdout",
     "output_type": "stream",
     "text": [
      "np.vectorize performance: 0.245 ± 0.037 s per loop (mean ± std. dev. of 10 runs, 1 loop each)\n"
     ]
    }
   ],
   "source": [
    "# check performance of vectorized version\n",
    "times = np.zeros(shape = 10)\n",
    "for i in range(10):\n",
    "    t0 = time.time()\n",
    "    vectorized_upper_names = vectorized_upper(names)\n",
    "    t1 = time.time()\n",
    "    times[i] = t1 - t0\n",
    "\n",
    "mean = np.mean(times)\n",
    "stddev = np.sqrt(np.var(times))\n",
    "\n",
    "print(f\"np.vectorize performance: {mean:.3f} ± {stddev:.3f} s per loop (mean ± std. dev. of 10 runs, 1 loop each)\")"
   ]
  },
  {
   "cell_type": "code",
   "execution_count": 52,
   "metadata": {
    "collapsed": false
   },
   "outputs": [
    {
     "name": "stdout",
     "output_type": "stream",
     "text": [
      "looped performance: 0.352 ± 0.027 s per loop (mean ± std. dev. of 10 runs, 1 loop each)\n"
     ]
    }
   ],
   "source": [
    "# check performance of looped implementation\n",
    "times = np.zeros(shape = 10)\n",
    "looped_upper_names = np.empty(shape = (1000, 1000), dtype = object)\n",
    "for i in range(10):\n",
    "    t0 = time.time()\n",
    "    for j in range(1000):\n",
    "        for k in range(1000):\n",
    "            looped_upper_names[j, k] = names[j, k].upper()\n",
    "    t1 = time.time()\n",
    "    times[i] = t1 - t0\n",
    "    \n",
    "mean = np.mean(times)\n",
    "stddev = np.sqrt(np.var(times))\n",
    "\n",
    "print(f\"looped performance: {mean:.3f} ± {stddev:.3f} s per loop (mean ± std. dev. of 10 runs, 1 loop each)\")"
   ]
  },
  {
   "cell_type": "code",
   "execution_count": 54,
   "metadata": {
    "collapsed": false
   },
   "outputs": [
    {
     "data": {
      "text/plain": [
       "True"
      ]
     },
     "execution_count": 54,
     "metadata": {
     },
     "output_type": "execute_result"
    }
   ],
   "source": [
    "# check that both implementations actually do give the same result\n",
    "\n",
    "np.array_equal(looped_upper_names, vectorized_upper_names)"
   ]
  },
  {
   "cell_type": "markdown",
   "metadata": {
    "collapsed": false
   },
   "source": [
    "It looks like `np.vectorize()` gives a small performance boost, but this might just be because of some miscellaneous overhead involved in writing an explicit `for` loop. "
   ]
  },
  {
   "cell_type": "code",
   "execution_count": 0,
   "metadata": {
    "collapsed": false
   },
   "outputs": [
   ],
   "source": [
   ]
  }
 ],
 "metadata": {
  "kernelspec": {
   "display_name": "Python 3 (system-wide)",
   "language": "python",
   "metadata": {
    "cocalc": {
     "description": "Python 3 programming language",
     "priority": 100,
     "url": "https://www.python.org/"
    }
   },
   "name": "python3",
   "resource_dir": "/ext/jupyter/kernels/python3"
  },
  "language_info": {
   "codemirror_mode": {
    "name": "ipython",
    "version": 3
   },
   "file_extension": ".py",
   "mimetype": "text/x-python",
   "name": "python",
   "nbconvert_exporter": "python",
   "pygments_lexer": "ipython3",
   "version": "3.8.10"
  }
 },
 "nbformat": 4,
 "nbformat_minor": 4
}