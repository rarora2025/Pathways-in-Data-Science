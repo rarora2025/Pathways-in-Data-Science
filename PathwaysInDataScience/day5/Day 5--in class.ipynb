{
 "cells": [
  {
   "cell_type": "code",
   "execution_count": 0,
   "metadata": {
    "collapsed": false
   },
   "outputs": [
   ],
   "source": [
    "import numpy as np\n",
    "import matplotlib.pyplot as plt\n",
    "\n",
    "from sklearn.model_selection import train_test_split\n",
    "from sklearn import metrics\n",
    "from sklearn import tree\n",
    "from sklearn.ensemble import RandomForestClassifier\n",
    "from sklearn.ensemble import AdaBoostClassifier\n",
    "\n",
    "\n",
    "import pandas as pd\n",
    "import seaborn as sns\n",
    "sns.set()"
   ]
  },
  {
   "cell_type": "markdown",
   "metadata": {
    "collapsed": false
   },
   "source": [
    "# Data pre-processing"
   ]
  },
  {
   "cell_type": "code",
   "execution_count": 0,
   "metadata": {
    "collapsed": false,
    "scrolled": true
   },
   "outputs": [
   ],
   "source": [
    "fsh_df = pd.read_csv('Fish.csv')\n",
    "fsh_df.head()"
   ]
  },
  {
   "cell_type": "code",
   "execution_count": 0,
   "metadata": {
    "collapsed": false
   },
   "outputs": [
   ],
   "source": [
    "train_features, test_features, train_labels, test_labels = train_test_split(fsh_df.loc[:,fsh_df.columns != 'Species'], fsh_df.Species, test_size = 0.25)\n",
    "\n",
    "print('Training Features Shape:', train_features.shape)\n",
    "print('Training Labels Shape:', train_labels.shape)\n",
    "print('Testing Features Shape:', test_features.shape)\n",
    "print('Testing Labels Shape:', test_labels.shape)"
   ]
  },
  {
   "cell_type": "markdown",
   "metadata": {
    "collapsed": false
   },
   "source": [
    "# Let's plant a tree"
   ]
  },
  {
   "cell_type": "code",
   "execution_count": 0,
   "metadata": {
    "collapsed": false
   },
   "outputs": [
   ],
   "source": [
    "train_features.head()"
   ]
  },
  {
   "cell_type": "code",
   "execution_count": 0,
   "metadata": {
    "collapsed": false
   },
   "outputs": [
   ],
   "source": [
    "# fit a decision tree to the training data\n",
    "decision_tree = tree.DecisionTreeClassifier()\n",
    "decision_tree.fit(train_features, train_labels)\n",
    "\n",
    "def find_test_accuracy(model,test_features,test_labels):\n",
    "    # Use our tree to predict the labels of the test data\n",
    "    predictions = model.predict(test_features)\n",
    "    # Model Accuracy, how often is the classifier correct?\n",
    "    print(\"Test Accuracy:\",metrics.accuracy_score(test_labels, predictions))\n",
    "    \n",
    "def draw_me_a_tree(my_tree,feature_names=None,class_names=None):\n",
    "    if feature_names is None:\n",
    "        feature_names = list(my_tree.feature_names_in_)\n",
    "    if class_names is None:\n",
    "        class_names = list(my_tree.classes_)\n",
    "    # Let's draw our tree\n",
    "    plt.figure(figsize=(20, 12), dpi=100)\n",
    "    tree.plot_tree(my_tree,feature_names = feature_names,class_names = class_names)\n",
    "    plt.show()\n",
    "    return\n",
    "\n",
    "# How well did we do?\n",
    "find_test_accuracy(decision_tree,test_features,test_labels)\n",
    "# Let's draw our tree\n",
    "draw_me_a_tree(decision_tree)"
   ]
  },
  {
   "cell_type": "markdown",
   "metadata": {
    "collapsed": false
   },
   "source": [
    "## Model interpretation\n",
    "- What are the final splits found by the tree?\n",
    "- What is the depth of this tree?\n",
    "- What are the decision paths learned by this tree?\n",
    "- Why did we get this tree?\n",
    "- Is this a \"good\" tree?"
   ]
  },
  {
   "cell_type": "code",
   "execution_count": 0,
   "metadata": {
    "collapsed": false
   },
   "outputs": [
   ],
   "source": [
    "# How about a smaller tree? We'll enforce a maximum depth\n",
    "our_max_depth = 3\n",
    "\n",
    "short_tree = tree.DecisionTreeClassifier(max_depth=our_max_depth)\n",
    "short_tree.fit(train_features, train_labels)\n",
    "\n",
    "# How well did we do?\n",
    "find_test_accuracy(short_tree)\n",
    "# Let's draw our tree\n",
    "draw_me_a_tree(short_tree)"
   ]
  },
  {
   "cell_type": "markdown",
   "metadata": {
    "collapsed": false
   },
   "source": [
    "## How do these two trees compare?"
   ]
  },
  {
   "cell_type": "markdown",
   "metadata": {
    "collapsed": false
   },
   "source": [
    "# Let's plant a whole forest"
   ]
  },
  {
   "cell_type": "code",
   "execution_count": 0,
   "metadata": {
    "collapsed": false
   },
   "outputs": [
   ],
   "source": [
    "number_of_trees = 10\n",
    "\n",
    "# Instantiate model with 5 decision trees\n",
    "rf = RandomForestClassifier(n_estimators = number_of_trees, max_depth = our_max_depth,bootstrap = True)\n",
    "# Train the model on training data\n",
    "rf.fit(train_features, train_labels)\n",
    "\n",
    "# How well did we do?\n",
    "find_test_accuracy(rf)"
   ]
  },
  {
   "cell_type": "markdown",
   "metadata": {
    "collapsed": false
   },
   "source": [
    "## Let's take a look at one of our trees"
   ]
  },
  {
   "cell_type": "code",
   "execution_count": 0,
   "metadata": {
    "collapsed": false
   },
   "outputs": [
   ],
   "source": [
    "random_tree = rf.estimators_[0]\n",
    "\n",
    "draw_me_a_tree(random_tree,feature_names = list(rf.feature_names_in_),class_names = list(rf.classes_))"
   ]
  },
  {
   "cell_type": "markdown",
   "metadata": {
    "collapsed": false
   },
   "source": [
    "# It's Boostin' Time"
   ]
  },
  {
   "cell_type": "code",
   "execution_count": 0,
   "metadata": {
    "collapsed": false
   },
   "outputs": [
   ],
   "source": [
    "booster =  AdaBoostClassifier(tree.DecisionTreeClassifier(max_depth=our_max_depth), n_estimators=number_of_trees)\n",
    "booster.fit(train_features,train_labels)\n",
    "\n",
    "find_test_accuracy(booster)"
   ]
  },
  {
   "cell_type": "markdown",
   "metadata": {
    "collapsed": false
   },
   "source": [
    "Let's look at some trees:"
   ]
  },
  {
   "cell_type": "code",
   "execution_count": 0,
   "metadata": {
    "collapsed": false
   },
   "outputs": [
   ],
   "source": [
    "sub_tree_first = booster.estimators_[0]\n",
    "sub_tree_last = booster.estimators_[-1]\n",
    "\n",
    "print('First subtree:')\n",
    "find_test_accuracy(sub_tree_first)\n",
    "draw_me_a_tree(sub_tree_first,feature_names = list(booster.feature_names_in_),class_names = list(booster.classes_))\n",
    "\n",
    "print('Last subtree:')\n",
    "find_test_accuracy(sub_tree_last)\n",
    "draw_me_a_tree(sub_tree_last,feature_names = list(booster.feature_names_in_),class_names = list(booster.classes_))"
   ]
  },
  {
   "cell_type": "code",
   "execution_count": 0,
   "metadata": {
    "collapsed": false
   },
   "outputs": [
   ],
   "source": [
   ]
  }
 ],
 "metadata": {
  "kernelspec": {
   "display_name": "Python 3 (system-wide)",
   "language": "python",
   "metadata": {
    "cocalc": {
     "description": "Python 3 programming language",
     "priority": 100,
     "url": "https://www.python.org/"
    }
   },
   "name": "python3",
   "resource_dir": "/ext/jupyter/kernels/python3"
  },
  "language_info": {
   "codemirror_mode": {
    "name": "ipython",
    "version": 3
   },
   "file_extension": ".py",
   "mimetype": "text/x-python",
   "name": "python",
   "nbconvert_exporter": "python",
   "pygments_lexer": "ipython3",
   "version": "3.8.10"
  }
 },
 "nbformat": 4,
 "nbformat_minor": 4
}