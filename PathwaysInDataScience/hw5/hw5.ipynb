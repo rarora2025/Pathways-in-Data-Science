{
 "cells": [
  {
   "cell_type": "code",
   "execution_count": 1,
   "metadata": {
    "collapsed": false
   },
   "outputs": [
   ],
   "source": [
    "import numpy as np\n",
    "\n",
    "%matplotlib inline\n",
    "from matplotlib import pyplot as plt\n",
    "from sklearn import datasets\n",
    "from sklearn.model_selection import train_test_split"
   ]
  },
  {
   "cell_type": "markdown",
   "metadata": {
    "collapsed": false
   },
   "source": [
    "# Exercise 5.4: $k$-means clustering\n",
    "\n",
    "The MNIST database is a very famous database consisting of images of handwritten digits, used as a standard benchmark for a variety of image processing tasks. The database consists of 1797 $8\\times 8$ grayscale images of digits, each flattened into a vector of length 64. Let's load the data and visualize some of the data."
   ]
  },
  {
   "cell_type": "code",
   "execution_count": 2,
   "metadata": {
    "collapsed": false
   },
   "outputs": [
    {
     "data": {
      "text/plain": [
       "(1797, 64)"
      ]
     },
     "execution_count": 2,
     "metadata": {
     },
     "output_type": "execute_result"
    }
   ],
   "source": [
    "X, y = datasets.load_digits(return_X_y = True)\n",
    "X = X/np.max(X) # do some normalizing\n",
    "X.shape"
   ]
  },
  {
   "cell_type": "code",
   "execution_count": 3,
   "metadata": {
    "collapsed": false
   },
   "outputs": [
    {
     "data": {
      "text/plain": [
       "(1797, 64)"
      ]
     },
     "execution_count": 3,
     "metadata": {
     },
     "output_type": "execute_result"
    }
   ],
   "source": [
    "X.shape"
   ]
  },
  {
   "cell_type": "code",
   "execution_count": 13,
   "metadata": {
    "collapsed": false
   },
   "outputs": [
   ],
   "source": [
    "def visualize_digit(X, y, k):\n",
    "    '''\n",
    "    Plot a digit from the MNIST database and print its label.\n",
    "    INPUTS:\n",
    "        X: digits in the MNIST database\n",
    "        y: labels in the MNIST database\n",
    "        k: the index of the datapoint you wish to visualize\n",
    "    '''\n",
    "    if type(k) != int:\n",
    "        print(\"k must be supplied as integer!\")\n",
    "        return -1\n",
    "    \n",
    "    if k < 0 or k >= X.shape[0]:\n",
    "        print(\"index k is out of bounds, must be between 0 and 1796!\")\n",
    "        return -1\n",
    "    \n",
    "    print(f\"Image label: {y[k]}\")\n",
    "    plt.imshow(np.reshape(X[k],(8,8)), cmap='gray')"
   ]
  },
  {
   "cell_type": "code",
   "execution_count": 15,
   "metadata": {
    "collapsed": false
   },
   "outputs": [
    {
     "name": "stdout",
     "output_type": "stream",
     "text": [
      "Image label: 1\n"
     ]
    },
    {
     "data": {
      "image/png": "[encoded data removed]",
      "text/plain": [
       "<Figure size 432x288 with 1 Axes>"
      ]
     },
     "execution_count": 15,
     "metadata": {
      "image/png": {
       "height": 248,
       "width": 245
      },
      "needs_background": "light"
     },
     "output_type": "execute_result"
    }
   ],
   "source": [
    "# try some different values of k\n",
    "k = 42\n",
    "visualize_digit(X, y, k)"
   ]
  },
  {
   "cell_type": "code",
   "execution_count": 16,
   "metadata": {
    "collapsed": false
   },
   "outputs": [
    {
     "data": {
      "text/plain": [
       "array([[0.    , 0.    , 0.3125, ..., 0.    , 0.    , 0.    ],\n",
       "       [0.    , 0.    , 0.    , ..., 0.625 , 0.    , 0.    ],\n",
       "       [0.    , 0.    , 0.    , ..., 1.    , 0.5625, 0.    ],\n",
       "       ...,\n",
       "       [0.    , 0.    , 0.0625, ..., 0.375 , 0.    , 0.    ],\n",
       "       [0.    , 0.    , 0.125 , ..., 0.75  , 0.    , 0.    ],\n",
       "       [0.    , 0.    , 0.625 , ..., 0.75  , 0.0625, 0.    ]])"
      ]
     },
     "execution_count": 16,
     "metadata": {
     },
     "output_type": "execute_result"
    }
   ],
   "source": [
    "X"
   ]
  },
  {
   "cell_type": "markdown",
   "metadata": {
    "collapsed": false
   },
   "source": [
    "## Part (a): Implement $k$-means\n",
    "\n",
    "Implement $k$-means from scratch (you are permitted to use any numpy routines you'd like) by filling out the function `kmeans()` below. You are welcome to shuffle the code around as you please; this is only a starting point. You are also welcome and encouraged to write helper functions."
   ]
  },
  {
   "cell_type": "code",
   "execution_count": 27,
   "metadata": {
    "collapsed": false
   },
   "outputs": [
   ],
   "source": [
    "def kmeans(X, k):\n",
    "    '''\n",
    "    implement k-means\n",
    "    INPUT:\n",
    "        X: numpy array of shape (N,d), where n is number of data\n",
    "            points and d is dimension (d = 64 in our case)\n",
    "        k: desired number of clusters\n",
    "    OUTPUT:\n",
    "        m: numpy array of shape (k,) of cluster centers\n",
    "        gamma: numpy array of shape (N,), where each entry is \n",
    "            an integer from 0 to k-1 denoting cluster membership\n",
    "        distortions: list of distortions at each iteration\n",
    "    '''\n",
    "    N, d = X.shape\n",
    "    \n",
    "    distortions = [] # keep track of distortion at each step\n",
    "    \n",
    "    # create m and gamma arrays\n",
    "    m = np.zeros(shape = k)\n",
    "    gamma = np.zeros(shape = N)\n",
    "    \n",
    "    # initialize cluster centers by randomly choosing k points from the data\n",
    "    m = 0 # your code here...\n",
    "    \n",
    "    while ...: # your code here..., while distortion isn't converged\n",
    "        gamma = ... # update cluster assignments\n",
    "        m = ... # update cluster centers\n",
    "        distortion = ... #compute the distortion\n",
    "        distortions.append(distortion)\n",
    "    \n",
    "    return m, gamma, distortions"
   ]
  },
  {
   "cell_type": "markdown",
   "metadata": {
    "collapsed": false
   },
   "source": [
    "## Part (b); Run on MNIST\n",
    "\n",
    "We will now try running `kmeans()` on the MNIST dataset. Since the MNIST dataset consists of 10 different possible digits, it makes sense to try to classify them into $k = 10$ different clusters. If we think about the center of each cluster as a \"representative\" of the other points in that cluster, we can try plotting the resultant cluster centers and seeing if they look like numbers.\n",
    "\n",
    "Run `kmeans()` on the MNIST data and plot the cluster centers. Do they look like digits? Remember that your centers will be arrays of shape `(64,)`. You will have to reshape them into arrays of shape `(8,8)` using `np.reshape()`, then plot them using `plt.imshow()` (see the last line of the function `visualize_digit` written above)."
   ]
  },
  {
   "cell_type": "code",
   "execution_count": 28,
   "metadata": {
    "collapsed": false
   },
   "outputs": [
   ],
   "source": [
    "# your code here..."
   ]
  },
  {
   "cell_type": "code",
   "execution_count": 0,
   "metadata": {
    "collapsed": false
   },
   "outputs": [
   ],
   "source": [
   ]
  }
 ],
 "metadata": {
  "kernelspec": {
   "display_name": "Python 3 (system-wide)",
   "language": "python",
   "metadata": {
    "cocalc": {
     "description": "Python 3 programming language",
     "priority": 100,
     "url": "https://www.python.org/"
    }
   },
   "name": "python3",
   "resource_dir": "/ext/jupyter/kernels/python3"
  },
  "language_info": {
   "codemirror_mode": {
    "name": "ipython",
    "version": 3
   },
   "file_extension": ".py",
   "mimetype": "text/x-python",
   "name": "python",
   "nbconvert_exporter": "python",
   "pygments_lexer": "ipython3",
   "version": "3.8.10"
  }
 },
 "nbformat": 4,
 "nbformat_minor": 4
}